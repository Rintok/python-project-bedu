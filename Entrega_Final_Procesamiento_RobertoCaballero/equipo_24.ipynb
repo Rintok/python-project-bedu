{
  "nbformat": 4,
  "nbformat_minor": 0,
  "metadata": {
    "colab": {
      "provenance": [],
      "collapsed_sections": [
        "-Mlt_woxwvMI",
        "tYWASlC4JUcR",
        "8xb1pUL2EXpv",
        "XQWaP7RK5iQm"
      ]
    },
    "kernelspec": {
      "name": "python3",
      "display_name": "Python 3"
    },
    "language_info": {
      "name": "python"
    }
  },
  "cells": [
    {
      "cell_type": "markdown",
      "source": [
        "<div class=\"markdown-google-sans\">\n",
        "\n",
        "## <strong>1. Identificación del Problema</strong>\n",
        "</div>\n",
        "\n",
        "La migración hacia Estados Unidos es un tema complejo. Cada año [cientos de miles de inmigrantes](https://www.dhs.gov/immigration-statistics/yearbook/2020/table6) entran legalmente al país mencionado, más aquellos que viajan de forma ilegal y que no pueden ser contabilizados. Este proceso de migración ocurre por diversos motivos, como escapar de algún conflicto, factores ambientales, educación, u oportunidades laborales, pero todos se engloban en un mismo concepto: buscar una mejora en la calidad de vida.\n",
        "\n",
        "Pero, ¿el inmigrante es el único beneficiado por el proceso migratorio?\n",
        "\n",
        "Existe evidencia sobre los beneficios economicos de la migración. Obviando la parte del migrante que usualmente viaja a otro país para mejorar su calidad de vida y la de su familia, el lugar destino también se ve beneficiado. Los inmigrantes [incrementan el potencial económico](https://www.whitehouse.gov/cea/written-materials/2021/09/17/the-economic-benefits-of-extending-permanent-legal-status-to-unauthorized-immigrants/#:~:text=Immigrants%20also%20make%20an%20important,also%20contribute%20to%20increasing%20productivity.) al aumentar la oferta laboral y contribuyendo en el incremento de la productividad. También se ha demostrado que generan innovación y desarrollo cultural en la zona a la que llegan.\n",
        "\n",
        "Sabiendo esto, buscamos comprender un poco más la situación de la migración en Estados Unidos, por ejemplo, hacia que estados del país van más inmigrantes, de que país de origen, etc. Específicamente, nos gustaría entender sobre la población latina.\n",
        "\n",
        "Al hacer un poco de investigación, se encontraron dos estudios con información útil. El primero es un estudio del Pew Research Center titulado \"[Key findings about U.S. Immigrants](https://www.pewresearch.org/fact-tank/2020/08/20/key-findings-about-u-s-immigrants/)\". En él, se relata que Estados Unidos tiene mas inmigrantes que cualquier otro país del mundo, con más de 40 millones de personas. Para 2018, Mexico fue el top país de origen de población inmigrante,\n",
        "seguido de China, India, Las Filipinas, y El Salvador. Sin embargo, cuando se habla de regiones, Asia esta proyectado a ser el grupo inmigrante con mayor poblacion en Estados Unidos para el 2055. Finalmente, la mayoria de la poblacion inmigrante vive en California, Texas, y Florida.\n",
        "\n",
        "Esta información es muy valiosa, pero enfrenta dos problemas: No esta actualizada, y la información no está disponible por estado y país de origen. No podemos, por ejemplo, saber cuantos colombianos hay en California. Para ello, analizamos otros reportes que otorgan información nivel estado, como [este](https://www.pewresearch.org/fact-tank/2020/07/10/hispanics-have-accounted-for-more-than-half-of-total-u-s-population-growth-since-2010/#:~:text=Some%20of%20the%20nation's%20largest,of%20the%20nation's%20Hispanic%20population.), donde se explica que en los estados de New York, New Jersey, Pennsylvania, New Mexico, Rhode Island, y Mississippi, la poblacion latina supero el crecimiento medio poblacional entre 2010 y 2019. Tambien se detalla que, mientras la mitad de los hispanos viven en estados del suroeste, se estan viendo crecimientos poblacionales importantes en estados de otras regiones.\n",
        "\n",
        "Los datos son valiosos, pero nos encontramos con problemas similares: la informacion no está actualizada, y los datos son de la población hispana, la cuál incluye inmigrantes y no inmigrantes. Por ende, surje la necesidad de buscar datos por nuestros propios medios para poder entender mejor la situación que estamos analizando.\n"
      ],
      "metadata": {
        "id": "-Mlt_woxwvMI"
      }
    },
    {
      "cell_type": "markdown",
      "source": [
        "<div class=\"markdown-google-sans\">\n",
        "\n",
        "## <strong>2. Planteamiento de preguntas</strong>\n",
        "</div>\n",
        "\n",
        "En resumen queremos responder las siguientes preguntas:\n",
        "\n",
        "* ¿Cuántos inmigrantes latinos existen en Estados Unidos, por estado y en total?\n",
        "* ¿De que país se originan más inmigrantes latinos, por estado y en total?\n",
        "* ¿Qué estados tienen el mayor porcentaje de inmigrantes latinos con respecto a su población total?\n",
        "* ¿Cuál ha sido el crecimiento de inmigrantes latinos?\n",
        "* ¿Algún estado recibe inmigrantes de otra región del mundo de manera significativa (recibe más de otra region que de latinoamérica)?\n"
      ],
      "metadata": {
        "id": "tYWASlC4JUcR"
      }
    },
    {
      "cell_type": "markdown",
      "source": [
        "<div class=\"markdown-google-sans\">\n",
        "\n",
        "## <strong>3. Colección de Datos</strong>\n",
        "</div>\n",
        "\n",
        "Para datos de inmigrantes, una buena opcion es el American Community Survey del Censo de Estados Unidos. Esta es una encuesta que se realiza una vez al año y que contiene datos de número de inmigrantes según país de origen, en distintas geografías. Para ello, el censo cuenta con un API para poder hacer queries muy específicos sobre la información que necesitamos, el cuál usaremos para extraer la información.\n",
        "La documentación se puede revisar [aquí](https://www.census.gov/programs-surveys/acs/technical-documentation/table-shells.html), mientras que la lista exhaustiva de variables se encuentran en este [link](https://api.census.gov/data/2020/acs/acs5/variables.html).\n",
        "\n",
        "Al revisar la documentación, encontramos que cada dato que queremos esta almacenado en una variable. Por ejemplo, \"B05006_002E\" corresponde a la población inmigrante de Europa, mientras que \"B05006_150E\" nos daría la población inmigrante de México. Con ayuda de la documentación generamos un diccionario que contiene todas las variables que utilizaremos para nuestro API request.\n"
      ],
      "metadata": {
        "id": "2kbBuXgWLAw6"
      }
    },
    {
      "cell_type": "code",
      "source": [
        "# Definimos diccionario de variables con su respectivo significado\n",
        "\n",
        "country_codes = {\n",
        "  'B01001_001E':'Total Population',\n",
        "  'B05006_001E':'Total Foreign-born',\n",
        "  'B05006_002E':'Europe',\n",
        "  'B05006_003E':'Northern Europe',\n",
        "  'B05006_004E':'Denmark',\n",
        "  'B05006_005E':'Ireland',\n",
        "  'B05006_006E':'Norway',\n",
        "  'B05006_007E':'Sweden',\n",
        "  'B05006_008E':'United Kingdom (inc. Crown Dependencies)',\n",
        "  'B05006_009E':'United Kingdom, excluding England and Scotland',\n",
        "  'B05006_010E':'England',\n",
        "  'B05006_011E':'Scotland',\n",
        "  'B05006_012E':'Other Northern Europe',\n",
        "  'B05006_013E':'Western Europe',\n",
        "  'B05006_014E':'Austria',\n",
        "  'B05006_015E':'Belgium',\n",
        "  'B05006_016E':'France',\n",
        "  'B05006_017E':'Germany',\n",
        "  'B05006_018E':'Netherlands',\n",
        "  'B05006_019E':'Switzerland',\n",
        "  'B05006_020E':'Other Western Europe',\n",
        "  'B05006_021E':'Southern Europe',\n",
        "  'B05006_022E':'Greece',\n",
        "  'B05006_023E':'Italy',\n",
        "  'B05006_024E':'Portugal',\n",
        "  'B05006_025E':'Azores Islands',\n",
        "  'B05006_026E':'Spain',\n",
        "  'B05006_027E':'Other Southern Europe',\n",
        "  'B05006_028E':'Eastern Europe',\n",
        "  'B05006_029E':'Albania',\n",
        "  'B05006_030E':'Belarus',\n",
        "  'B05006_031E':'Bosnia and Herzegovina',\n",
        "  'B05006_032E':'Bulgaria',\n",
        "  'B05006_033E':'Croatia',\n",
        "  'B05006_034E':'Czechoslovakia (includes Czech Republic and Slovakia)',\n",
        "  'B05006_035E':'Hungary',\n",
        "  'B05006_036E':'Latvia',\n",
        "  'B05006_037E':'Lithuania',\n",
        "  'B05006_038E':'Moldova',\n",
        "  'B05006_039E':'North Macedonia (Macedonia)',\n",
        "  'B05006_040E':'Poland',\n",
        "  'B05006_041E':'Romania',\n",
        "  'B05006_042E':'Russia',\n",
        "  'B05006_043E':'Serbia',\n",
        "  'B05006_044E':'Ukraine',\n",
        "  'B05006_045E':'Other Eastern Europe',\n",
        "  'B05006_046E':'Europe, n.e.c.',\n",
        "  'B05006_047E':'Asia',\n",
        "  'B05006_048E':'Eastern Asia',\n",
        "  'B05006_049E':'China',\n",
        "  'B05006_050E':'China, excluding Hong Kong and Taiwan',\n",
        "  'B05006_051E':'Hong Kong',\n",
        "  'B05006_052E':'Taiwan',\n",
        "  'B05006_053E':'Japan',\n",
        "  'B05006_054E':'Korea',\n",
        "  'B05006_055E':'Other Eastern Asia',\n",
        "  'B05006_056E':'South Central Asia',\n",
        "  'B05006_057E':'Afghanistan',\n",
        "  'B05006_058E':'Bangladesh',\n",
        "  'B05006_059E':'India',\n",
        "  'B05006_060E':'Iran',\n",
        "  'B05006_061E':'Kazakhstan',\n",
        "  'B05006_062E':'Nepal',\n",
        "  'B05006_063E':'Pakistan',\n",
        "  'B05006_064E':'Sri Lanka',\n",
        "  'B05006_065E':'Uzbekistan',\n",
        "  'B05006_066E':'Other South Central Asia',\n",
        "  'B05006_067E':'South Eastern Asia',\n",
        "  'B05006_068E':'Burma',\n",
        "  'B05006_069E':'Cambodia',\n",
        "  'B05006_070E':'Indonesia',\n",
        "  'B05006_071E':'Laos',\n",
        "  'B05006_072E':'Malaysia',\n",
        "  'B05006_073E':'Philippines',\n",
        "  'B05006_074E':'Singapore',\n",
        "  'B05006_075E':'Thailand',\n",
        "  'B05006_076E':'Vietnam',\n",
        "  'B05006_077E':'Other South Eastern Asia',\n",
        "  'B05006_078E':'Western Asia',\n",
        "  'B05006_079E':'Armenia',\n",
        "  'B05006_080E':'Iraq',\n",
        "  'B05006_081E':'Israel',\n",
        "  'B05006_082E':'Jordan',\n",
        "  'B05006_083E':'Kuwait',\n",
        "  'B05006_084E':'Lebanon',\n",
        "  'B05006_085E':'Saudi Arabia',\n",
        "  'B05006_086E':'Syria',\n",
        "  'B05006_087E':'Turkey',\n",
        "  'B05006_088E':'Yemen',\n",
        "  'B05006_089E':'Other Western Asia',\n",
        "  'B05006_090E':'Asia, n.e.c.',\n",
        "  'B05006_091E':'Africa',\n",
        "  'B05006_092E':'Eastern Africa',\n",
        "  'B05006_093E':'Eritrea',\n",
        "  'B05006_094E':'Ethiopia',\n",
        "  'B05006_095E':'Kenya',\n",
        "  'B05006_096E':'Somalia',\n",
        "  'B05006_097E':'Uganda',\n",
        "  'B05006_098E':'Zimbabwe',\n",
        "  'B05006_099E':'Other Eastern Africa',\n",
        "  'B05006_100E':'Middle Africa',\n",
        "  'B05006_101E':'Cameroon',\n",
        "  'B05006_102E':'Congo',\n",
        "  'B05006_103E':'Democratic Republic of Congo (Zaire)',\n",
        "  'B05006_104E':'Other Middle Africa',\n",
        "  'B05006_105E':'Northern Africa',\n",
        "  'B05006_106E':'Egypt',\n",
        "  'B05006_107E':'Morocco',\n",
        "  'B05006_108E':'Sudan',\n",
        "  'B05006_109E':'Other Northern Africa',\n",
        "  'B05006_110E':'Southern Africa',\n",
        "  'B05006_111E':'South Africa',\n",
        "  'B05006_112E':'Other Southern Africa',\n",
        "  'B05006_113E':'Western Africa',\n",
        "  'B05006_114E':'Cabo Verde',\n",
        "  'B05006_115E':'Ghana',\n",
        "  'B05006_116E':'Liberia',\n",
        "  'B05006_117E':'Nigeria',\n",
        "  'B05006_118E':'Senegal',\n",
        "  'B05006_119E':'Sierra Leone',\n",
        "  'B05006_120E':'Other Western Africa',\n",
        "  'B05006_121E':'Africa, n.e.c.',\n",
        "  'B05006_122E':'Oceania',\n",
        "  'B05006_123E':'Australia and New Zealand Subregion',\n",
        "  'B05006_124E':'Australia',\n",
        "  'B05006_125E':'Other Australian and New Zealand Subregion',\n",
        "  'B05006_126E':'Fiji',\n",
        "  'B05006_127E':'Micronesia',\n",
        "  'B05006_128E':'Oceania, n.e.c.',\n",
        "  'B05006_129E':'Americas',\n",
        "  'B05006_130E':'Latin America',\n",
        "  'B05006_131E':'Caribbean',\n",
        "  'B05006_132E':'Bahamas',\n",
        "  'B05006_133E':'Barbados',\n",
        "  'B05006_134E':'Cuba',\n",
        "  'B05006_135E':'Dominica',\n",
        "  'B05006_136E':'Dominican Republic',\n",
        "  'B05006_137E':'Grenada',\n",
        "  'B05006_138E':'Haiti',\n",
        "  'B05006_139E':'Jamaica',\n",
        "  'B05006_140E':'St. Vincent and the Grenadines',\n",
        "  'B05006_141E':'Trinidad and Tobago',\n",
        "  'B05006_142E':'West Indies',\n",
        "  'B05006_143E':'Other Caribbean',\n",
        "  'B05006_144E':'Central America',\n",
        "  'B05006_145E':'Belize',\n",
        "  'B05006_146E':'Costa Rica',\n",
        "  'B05006_147E':'El Salvador',\n",
        "  'B05006_148E':'Guatemala',\n",
        "  'B05006_149E':'Honduras',\n",
        "  'B05006_150E':'Mexico',\n",
        "  'B05006_151E':'Nicaragua',\n",
        "  'B05006_152E':'Panama',\n",
        "  'B05006_153E':'Other Central America',\n",
        "  'B05006_154E':'South America',\n",
        "  'B05006_155E':'Argentina',\n",
        "  'B05006_156E':'Bolivia',\n",
        "  'B05006_157E':'Brazil',\n",
        "  'B05006_158E':'Chile',\n",
        "  'B05006_159E':'Colombia',\n",
        "  'B05006_160E':'Ecuador',\n",
        "  'B05006_161E':'Guyana',\n",
        "  'B05006_162E':'Peru',\n",
        "  'B05006_163E':'Uruguay',\n",
        "  'B05006_164E':'Venezuela',\n",
        "  'B05006_165E':'Other South America',\n",
        "  'B05006_166E':'Northern America',\n",
        "  'B05006_167E':'Canada',\n",
        "  'B05006_168E':'Other Northern America'\n",
        "}\n"
      ],
      "metadata": {
        "id": "iBZg3wFQuuTa"
      },
      "execution_count": 90,
      "outputs": []
    },
    {
      "cell_type": "markdown",
      "source": [
        "El API del censo utiliza algo llamado código FIPS (Federal Information Processing Standard) para codificar cada uno de los estados del país. Por ende, cualquier resultado que arroje datos nivel estatal, contendrá el código FIPS en lugar del nombre del estado.\n",
        "\n",
        "Utilizando el archivo `state_fips.csv`, podremos interpretar el código FIPS y reemplazarlo con el respectivo nombre del estado."
      ],
      "metadata": {
        "id": "ghoPWgezZM6G"
      }
    },
    {
      "cell_type": "code",
      "source": [
        "import csv\n",
        "import os\n",
        "\n",
        "csv_filepath = '/content/state_fips.csv'\n",
        "try:\n",
        "  with open(csv_filepath, 'r') as f:\n",
        "    reader = csv.reader(f)\n",
        "    next(reader)  # Ignoramos headers\n",
        "    # Generamos diccionario con el respectivo nombre de estado en cada FIPS code\n",
        "    fips_codes = {row[0]: {'state_name': row[1], 'state_abbreviation': row[2]} for row in reader}\n",
        "    print(\"Diccionario generado correctamente\")\n",
        "except FileNotFoundError:\n",
        "  print(f\"No se encontró el archivo '{csv_filepath}' dentro de la carpeta '{os.getcwd()}', por favor verificar que se haya importado correctamente\")\n"
      ],
      "metadata": {
        "id": "yzLY7uftVYpW",
        "colab": {
          "base_uri": "https://localhost:8080/"
        },
        "outputId": "6d019a74-64ae-4e7b-9e43-ad1776fffa00"
      },
      "execution_count": 91,
      "outputs": [
        {
          "output_type": "stream",
          "name": "stdout",
          "text": [
            "Diccionario generado correctamente\n"
          ]
        }
      ]
    },
    {
      "cell_type": "markdown",
      "source": [
        "Ya que tenemos nuestros diccionarios de ayuda (`country_codes` y `fips_codes`) definiremos una funcion que haga los requests, según el año que necesitemos y las variables que le alimentemos."
      ],
      "metadata": {
        "id": "Y2XZUiOVZS61"
      }
    },
    {
      "cell_type": "code",
      "execution_count": 92,
      "metadata": {
        "id": "5EvNfmNZucWf"
      },
      "outputs": [],
      "source": [
        "import requests\n",
        "\n",
        "from time import sleep\n",
        "\n",
        "\n",
        "def generate_data(year, api_key, country_codes):\n",
        "  foreign_born = dict()\n",
        "  n = len(country_codes)\n",
        "\n",
        "  # Loopeamos por cada pais de origen\n",
        "  for country_code in country_codes:\n",
        "    country = country_codes[country_code]\n",
        "    print(f\"\\rSolicitando datos de {country}, {n-1} países restantes\", end='')\n",
        "\n",
        "    url = f\"https://api.census.gov/data/{year}/acs/acs5\"\n",
        "    \n",
        "    payload = {\n",
        "        'get': country_code,  # Variable que estamos solicitando (lista completa de variables en https://api.census.gov/data/2020/acs/acs5/variables.html)\n",
        "        'for': 'state:*',   # Se elige la geografia de estados, con un asterisco para que nos de todos los estados\n",
        "        'key': api_key\n",
        "    }\n",
        "\n",
        "    try:\n",
        "      r = requests.get(url, payload)\n",
        "    except:\n",
        "      print(f\"No hay datos para {country}\")\n",
        "      continue\n",
        "\n",
        "    # El API nos arroja una lista de listas en formato [[valor1, state1], [valor2, state2], ...]\n",
        "    country_data = r.json()\n",
        "    \n",
        "    # Almacenamos los datos en un diccionario\n",
        "    for row in country_data[1:]:\n",
        "      fips = row[1]\n",
        "      pop = row[0]\n",
        "      state = fips_codes[fips]['state_name']\n",
        "      \n",
        "      # Agregamos el estado como un key si no existe en nuestro diccionario completo\n",
        "      if state not in foreign_born:\n",
        "        foreign_born[state] = dict()\n",
        "      \n",
        "      foreign_born[state][country] = pop\n",
        "    \n",
        "    n -= 1\n",
        "    sleep(0.5)\n",
        "\n",
        "  print(f\"\\rListo!\")\n",
        "  return foreign_born"
      ]
    },
    {
      "cell_type": "markdown",
      "source": [
        "Generamos nuestro primer dataset (2020)"
      ],
      "metadata": {
        "id": "qCtICcSQ0dWP"
      }
    },
    {
      "cell_type": "code",
      "source": [
        "# Generamos nuestra key en https://api.census.gov/data/key_signup.html\n",
        "api_key = \"d8ee5e1b5c2b87231354e491a85d3f5495d94e4b\"\n",
        "\n",
        "# Generamos datos de inmigrantes para 2020\n",
        "foreign_born_2020 = generate_data(year=2020, api_key=api_key, country_codes=country_codes)"
      ],
      "metadata": {
        "id": "SA9f_KOicnNW",
        "colab": {
          "base_uri": "https://localhost:8080/"
        },
        "outputId": "a7800660-3dde-4033-e95b-3e8d93c04b32"
      },
      "execution_count": null,
      "outputs": [
        {
          "output_type": "stream",
          "name": "stdout",
          "text": [
            "Solicitando datos de Western Europe, 155 países restantes"
          ]
        }
      ]
    },
    {
      "cell_type": "markdown",
      "source": [
        "Tenemos preguntas referentes al crecimiento poblacional de la población inmigrante, por ende sería útil descargar tambien información de 2019.\n",
        "\n",
        "<strong> Ojo: </strong>Revisando la documentación, pudimos observar que hay ligeros cambios en las variables de este año. Crearemos un nuevo diccionario para poder hacer el request de la data de 2019 de manera correcta."
      ],
      "metadata": {
        "id": "Ug9k7JjGRGz2"
      }
    },
    {
      "cell_type": "code",
      "source": [
        "# Variables que son diferentes en la documentacion de 2019\n",
        "new_codes = {\n",
        "  'B05006_004E':'Ireland',\n",
        "  'B05006_005E':'Denmark',\n",
        "  'B05006_038E':'North Macedonia (Macedonia)',\n",
        "  'B05006_039E':'Moldova'\n",
        "}\n",
        "\n",
        "# Generamos unos country_codes especificos para 2019, y generamos un nuevo dataset\n",
        "country_codes_2019 = country_codes.copy()\n",
        "country_codes_2019.update(new_codes)\n",
        "foreign_born_2019 = generate_data(year=2019, api_key=api_key, country_codes=country_codes)\n"
      ],
      "metadata": {
        "id": "WcwQ7XdsRZJA"
      },
      "execution_count": null,
      "outputs": []
    },
    {
      "cell_type": "markdown",
      "source": [
        "Hasta aquí, ya generamos nuestra colección de datos de manera correcta, almacenandola en dos diccionarios: `foreign_born_2020` y `foreign_born_2019`"
      ],
      "metadata": {
        "id": "RJNvBawrdS_g"
      }
    },
    {
      "cell_type": "markdown",
      "source": [
        "<div class=\"markdown-google-sans\">\n",
        "\n",
        "## <strong>4. Análisis Exploratorio de nuestro Dataset</strong>\n",
        "</div>\n",
        "\n",
        "Ya tenemos nuestros dos diccionarios con toda la información que necesitamos. Ahora toca convertirlos a dataframes que nos ayudarán a realizar nuestro análisis."
      ],
      "metadata": {
        "id": "1lPewhT3dV9j"
      }
    },
    {
      "cell_type": "code",
      "source": [
        "import pandas as pd\n",
        "\n",
        "df_2020 = pd.DataFrame.from_dict(foreign_born_2020, orient='index')\n",
        "df_2019 = pd.DataFrame.from_dict(foreign_born_2019, orient='index')"
      ],
      "metadata": {
        "id": "EtVuSrAzk9_2"
      },
      "execution_count": null,
      "outputs": []
    },
    {
      "cell_type": "markdown",
      "source": [
        "Los datasets contienen información númerica, que representa la población inmigrante según país de origen, en un estado específico (también incluye una variable de la población total del estado). En este caso, las dimensiones de los dataframes son de 52 x 169 (52 estados, 169 geografías/variables). Ya que tenemos en su mayoría datos númericos, facilmente podremos responder nuestras preguntas."
      ],
      "metadata": {
        "id": "RJghRZ5rtQVq"
      }
    },
    {
      "cell_type": "code",
      "source": [
        "print(df_2020.shape, df_2019.shape)"
      ],
      "metadata": {
        "id": "ogk0Om6owWBJ"
      },
      "execution_count": null,
      "outputs": []
    },
    {
      "cell_type": "markdown",
      "source": [
        "Al revisar nuestras columnas, todas son de tipo objeto, y los nombres son descriptivos pero extensos en algunos casos. Un primer paso será tomar solamente las columnas que necesitemos, cambiar los headers a un `snake_case` conciso, y cambiar los dtypes a númerico."
      ],
      "metadata": {
        "id": "pJ9SNXIBwW97"
      }
    },
    {
      "cell_type": "code",
      "source": [
        "# Todas las columnas son de tipo objeto\n",
        "print(\"----2020 data----\")\n",
        "df_2020.info()\n",
        "print(\"\\n----2019 data----\")\n",
        "df_2019.info()"
      ],
      "metadata": {
        "id": "1ksuFcgqxPR7"
      },
      "execution_count": null,
      "outputs": []
    },
    {
      "cell_type": "markdown",
      "source": [
        "Seleccionamos filas al azar para revisar que datos podemos esperar. Parece ser que el censo nos da información por país (ejemplo: Mexico), por regiones (ejemplo: Latin America), y por continentes (ejemplo: Americas). Podemos revisar la documentación para conocer las agrupaciones exactas."
      ],
      "metadata": {
        "id": "KBMX7eihyzkN"
      }
    },
    {
      "cell_type": "code",
      "source": [
        "# Utilizamos option_context para que no nos trunquen columnas\n",
        "with pd.option_context('display.max_columns', None):\n",
        "  display(df_2020.sample(5))\n"
      ],
      "metadata": {
        "id": "RGKwyCyrRB_h"
      },
      "execution_count": null,
      "outputs": []
    },
    {
      "cell_type": "markdown",
      "source": [
        "\n",
        "En particular, se observa que hay muchísimas columnas con información, mientras que para contestar nuestras preguntas necesitamos datos de inmigrantes de las siguientes geografías:\n",
        "* Países latinoamericanos\n",
        "* Total de Latinoamerica\n",
        "* Totales de otras regiones\n",
        "* Total general\n",
        "\n",
        "Por ende, buscaremos eliminar todas las columnas que no cumplan con estos criterios, lo cual reducirá nuestro dataset y lo hará más manejable.\n",
        "\n",
        "Por otro lado, parece que los estados están siendo utilizados como indices, lo cuál nos causa un poco de ruido. Necesitaremos convertir esos indices a una columna nueva para evitar problemas si queremos concatenar nuestros dataframes."
      ],
      "metadata": {
        "id": "pFnwM53i0o2p"
      }
    },
    {
      "cell_type": "markdown",
      "source": [
        "<div class=\"markdown-google-sans\">\n",
        "\n",
        "## <strong>5. Limpieza de datos y agregaciones</strong>\n",
        "</div>\n",
        "\n",
        "Para poder trabajar cómodamente con nuestro dataset, comenzaremos a realizar las modificaciones que se mencionaron en el apartado anterior. Específicamente, combinaremos los dataframes en uno solo, convertiremos los datos a numerico, y removeremos NANs."
      ],
      "metadata": {
        "id": "ig5UIBCPpDT1"
      }
    },
    {
      "cell_type": "code",
      "source": [
        "# Combinamos Dataframes\n",
        "df = pd.concat([df_2020, df_2019], axis=0, keys=['2020', '2019'])\n",
        "\n",
        "# Convertimos datos de tipo objeto a numerico\n",
        "df = df.apply(pd.to_numeric)\n",
        "\n",
        "# Revisamos filas que tengan NANs\n",
        "df[df.isna().sum(axis=1) > 0]"
      ],
      "metadata": {
        "id": "1KBM7pXU8yK1"
      },
      "execution_count": null,
      "outputs": []
    },
    {
      "cell_type": "markdown",
      "source": [
        "Al parecer el censo no maneja datos de inmigrantes en Puerto Rico, entonces eliminaremos esas filas."
      ],
      "metadata": {
        "id": "Xo8yCzGOCBBp"
      }
    },
    {
      "cell_type": "code",
      "source": [
        "df.dropna(inplace=True) # Eliminamos NA (los registros de Puerto Rico)"
      ],
      "metadata": {
        "id": "zVKBDra5CKO9"
      },
      "execution_count": null,
      "outputs": []
    },
    {
      "cell_type": "markdown",
      "source": [
        "Otras modificaciones necesarias tienen que ver con nuestras columnas. En primer lugar, tenemos un DataFrame con doble índice (año y estado). El primer paso será convertir esos índices a columnas para poder realizar filtros más fácilmente en pasos futuros.\n",
        "\n",
        "En segundo plano, debemos reducir la dimension de nuestros datos. Tenemos muchas columnas que no necesitaremos y que sería bueno eliminar, aunado a que sería bueno que los nombres de nuestras columnas tengan un nombre más conciso en formato `snake_case`."
      ],
      "metadata": {
        "id": "Ti8gqQfADSe2"
      }
    },
    {
      "cell_type": "code",
      "source": [
        "# Columnas que queremos mantener, y su nuevo nombre\n",
        "# Las columnas que mantendremos son las de países latinoamericanos, total de \n",
        "# latinoamerica, total de otras regiones, y el total general\n",
        "\n",
        "rename_cols_map = {\n",
        "  'Total Population': 'total_pop',\n",
        "  'Total Foreign-born': 'total_pop_foreign',\n",
        "  'Europe': 'europe',\n",
        "  'Northern Europe': 'europe_north',\n",
        "  'Western Europe': 'europe_west',\n",
        "  'Southern Europe': 'europe_south',\n",
        "  'Eastern Europe': 'europe_east',\n",
        "  'Asia': 'asia',\n",
        "  'Eastern Asia': 'asia_east',\n",
        "  'South Central Asia': 'asia_south_central',\n",
        "  'South Eastern Asia': 'asia_south_east',\n",
        "  'Western Asia': 'asia_west',\n",
        "  'Africa': 'africa',\n",
        "  'Eastern Africa': 'africa_east',\n",
        "  'Middle Africa': 'africa_middle',\n",
        "  'Southern Africa': 'africa_south',\n",
        "  'Western Africa': 'africa_west',\n",
        "  'Oceania': 'oceania',\n",
        "  'Americas': 'america',\n",
        "  'Latin America': 'latin_america',\n",
        "  'Bahamas': 'bahamas',\n",
        "  'Barbados': 'barbados',\n",
        "  'Cuba': 'cuba',\n",
        "  'Dominica': 'dominica',\n",
        "  'Dominican Republic': 'dominican_republic',\n",
        "  'Grenada': 'grenada',\n",
        "  'Haiti': 'haiti',\n",
        "  'Jamaica': 'jamaica',\n",
        "  'St. Vincent and the Grenadines': 'st_vincent_grenadines',\n",
        "  'Trinidad and Tobago': 'trinidad_tobago',\n",
        "  'West Indies': 'west_indies',\n",
        "  'Other Caribbean': 'caribbean_other',\n",
        "  'Belize': 'belize',\n",
        "  'Costa Rica': 'costa_rica',\n",
        "  'El Salvador': 'el_salvador',\n",
        "  'Guatemala': 'guatemala',\n",
        "  'Honduras': 'honduras',\n",
        "  'Mexico': 'mexico',\n",
        "  'Nicaragua': 'nicaragua',\n",
        "  'Panama': 'panama',\n",
        "  'Other Central America': 'central_america_other',\n",
        "  'Argentina': 'argentina',\n",
        "  'Bolivia': 'bolivia',\n",
        "  'Brazil': 'brazil',\n",
        "  'Chile': 'chile',\n",
        "  'Colombia': 'colombia',\n",
        "  'Ecuador': 'ecuador',\n",
        "  'Guyana': 'guyana',\n",
        "  'Peru': 'peru',\n",
        "  'Uruguay': 'uruguay',\n",
        "  'Venezuela': 'venezuela',\n",
        "  'Other South America': 'south_america_other'\n",
        "}\n",
        "\n",
        "# Nos quedamos con las columnas que queremos\n",
        "cols_to_keep = list(rename_cols_map.keys())\n",
        "df = df[cols_to_keep]\n",
        "\n",
        "# Convertimos indices a columnas\n",
        "df.reset_index(inplace=True)\n",
        "\n",
        "# Actualizamos el diccionario con los nuevos nombres, considerando las nuevas columnas de los ex-indices\n",
        "rename_cols_map.update({'level_0': 'year', 'level_1': 'state'})\n",
        "df = df.rename(columns = rename_cols_map)"
      ],
      "metadata": {
        "id": "RhDxiOSbEWjq"
      },
      "execution_count": null,
      "outputs": []
    },
    {
      "cell_type": "markdown",
      "source": [
        "Con la limpieza de datos que hemos hecho, ya podemos empezar a resolver algunas de las preguntas que nos planteamos al inicio del proyecto. Considerando el estado actual del dataset, podemos contestar lo siguiente:\n",
        "* ¿Cuántos inmigrantes latinos existen en Estados Unidos, por estado y en total?\n",
        "* ¿Qué estados tienen el mayor porcentaje de inmigrantes latinos con respecto a su población total?"
      ],
      "metadata": {
        "id": "DRuRU0WhPN3h"
      }
    },
    {
      "cell_type": "code",
      "source": [
        "#### ¿Cuántos inmigrantes latinos existen en Estados Unidos, por estado y en total? ####\n",
        "\n",
        "# Filtramos para ver solamente inmigrantes latinoamericanos, y ordenamos mayor a menor\n",
        "latinos_by_state = df.copy().loc[df['year'] == '2020', ['state', 'latin_america']]\n",
        "latinos_by_state.sort_values(by = 'latin_america', ascending=False, inplace=True)\n",
        "\n",
        "# Total de inmigrantes latinos en el país\n",
        "latinos_total = latinos_by_state['latin_america'].sum()\n",
        "\n",
        "try:\n",
        "  # Le damos formato a los números para que tenga separador de miles y se vea más presentable\n",
        "  latinos_by_state = latinos_by_state.style.format({'latin_america': '{:,.0f}'})\n",
        "except ImportError:\n",
        "  # Para aplicar el \"style\" se necesita otra librería, se supone que ya debe venir integrada en \n",
        "  # Google colab, pero si por alguna razón no está, no realizamos el styling\n",
        "  pass\n",
        "\n",
        "# Inmigrantes latinos en Estados Unidos\n",
        "print(f\"En 2020, habia {latinos_total:,.0f} inmigrantes latinos en Estados Unidos\")\n",
        "\n",
        "# Inmigrantes latinos por estado\n",
        "print(\"Los números por estado son:\")\n",
        "display(latinos_by_state)"
      ],
      "metadata": {
        "id": "rsxE-2u_KCQW"
      },
      "execution_count": null,
      "outputs": []
    },
    {
      "cell_type": "code",
      "source": [
        "#### ¿Qué estados tienen el mayor porcentaje de inmigrantes latinos con respecto a su población total? ####\n",
        "\n",
        "# Filtramos para ver solamente inmigrantes latinoamericanos y poblacion total\n",
        "total_and_latinos = df.copy().loc[df['year'] == '2020', ['state', 'total_pop', 'latin_america']]\n",
        "\n",
        "# Calculamos proporcion de latinos total\n",
        "total_latinos = total_and_latinos['latin_america'].sum()\n",
        "total_pop = total_and_latinos['total_pop'].sum()\n",
        "latinos_proportion = total_latinos / total_pop\n",
        "\n",
        "# Calculamos proporcion de inmigrantes latinos con respecto a la poblacion total, para cada estado\n",
        "total_and_latinos['proportion'] = total_and_latinos['latin_america'] / total_and_latinos['total_pop']\n",
        "total_and_latinos.drop(['total_pop', 'latin_america'], axis='columns', inplace=True)\n",
        "total_and_latinos.sort_values(by = 'proportion', ascending=False, inplace=True)\n",
        "\n",
        "try:\n",
        "  # Le damos formato a las proporciones\n",
        "  latinos_proportion_states = total_and_latinos.head().style.format({'proportion': '{:,.2%}'})\n",
        "except ImportError:\n",
        "  # Para aplicar el \"style\" se necesita otra librería, se supone que ya debe venir integrada en \n",
        "  # Google colab, pero si por alguna razón no está, no realizamos el styling\n",
        "  pass\n",
        "\n",
        "# Proporcion en Estados Unidos\n",
        "print(f\"En 2020, el {latinos_proportion:,.2%} de la población estadounidense eran inmigrantes latinos\")\n",
        "\n",
        "# Proporcion por estado\n",
        "print(\"Los estados con mayor porcentaje son:\")\n",
        "display(latinos_proportion_states)"
      ],
      "metadata": {
        "id": "AKQS4VgSUhH3"
      },
      "execution_count": null,
      "outputs": []
    },
    {
      "cell_type": "markdown",
      "source": [
        "Listo! Con nuestro dataset pudimos responder ambas preguntas fácilmente"
      ],
      "metadata": {
        "id": "gMZTBmiIY_XP"
      }
    },
    {
      "cell_type": "markdown",
      "source": [
        "<div class=\"markdown-google-sans\">\n",
        "\n",
        "## <strong>6. Automatización y APIs</strong>\n",
        "</div>\n",
        "\n",
        "Nuestro proceso de colección de datos fue realizado mediante el uso del API del censo de Estados Unidos"
      ],
      "metadata": {
        "id": "8xb1pUL2EXpv"
      }
    },
    {
      "cell_type": "markdown",
      "source": [
        "<div class=\"markdown-google-sans\">\n",
        "\n",
        "## <strong>7. Transformación, filtración y ordenamiento de datos</strong>\n",
        "</div>\n",
        "\n",
        "Para poder resolver nuestras preguntas restantes, es necesario hacer algunas modificaciónes a nuestro dataset. En primer lugar, sería útil modificar las dimensiones de nuestro dataset para convertirlo en formato \"largo\", de modo que los valores de todas las columnas (excepto `year` y `state`) se almacenen en una sola. A este método también se le conoce como \"unpivot\".\n",
        "\n"
      ],
      "metadata": {
        "id": "1Ip69-eYajoZ"
      }
    },
    {
      "cell_type": "code",
      "source": [
        "# Formato largo (muchas filas, pocas columnas)\n",
        "\n",
        "df_unpivoted = df.copy().melt(id_vars=['year', 'state'], var_name = 'geo_name', value_name = 'population')\n",
        "print(df_unpivoted.shape)\n",
        "print(df_unpivoted.info())\n",
        "display(df_unpivoted.head())"
      ],
      "metadata": {
        "id": "-ixbmkTZY7xl"
      },
      "execution_count": null,
      "outputs": []
    },
    {
      "cell_type": "markdown",
      "source": [
        "Como se puede observar, cada columna se convirtio en un valor en la nueva columna \"geo_name\", y cada valor asociado a ese geo_name se escribió en la columna \"population\". Este formato nos facilitará el trabajo futuro.\n",
        "\n",
        "Otra transformación que consideramos necesaria es agregar una nueva columna, que nos especifique la \"categoria\" del valor en la columna `geo_name`. De este forma, podremos saber si `geo_name` hace referencia a un país, a una región, a un continente, etc."
      ],
      "metadata": {
        "id": "pORwQ2It8yDz"
      }
    },
    {
      "cell_type": "code",
      "source": [
        "# Funcion para asignarle una categoria a cada variable \n",
        "\n",
        "def add_category(value):\n",
        "  category_map = {\n",
        "      'totals': {'total_pop', 'total_pop_foreign'},\n",
        "      'continent': {'europe', 'asia', 'africa', 'oceania', 'america'},\n",
        "      'region': {\n",
        "          'latin_america',\n",
        "          'europe_north', 'europe_west', 'europe_south', 'europe_east',\n",
        "          'asia_east', 'asia_south_central', 'asia_south_east', 'asia_west',\n",
        "          'africa_east', 'africa_middle', 'africa_south', 'africa_west'\n",
        "      },\n",
        "      'country': {\n",
        "          'bahamas', 'barbados', 'cuba', 'dominica', 'dominican_republic',\n",
        "          'grenada', 'haiti', 'jamaica', 'st_vincent_grenadines',\n",
        "          'trinidad_tobago', 'west_indies', 'caribbean_other', 'belize',\n",
        "          'costa_rica', 'el_salvador', 'guatemala', 'honduras', 'mexico',\n",
        "          'nicaragua', 'panama', 'central_america_other', 'argentina',\n",
        "          'bolivia', 'brazil', 'chile', 'colombia', 'ecuador', 'guyana',\n",
        "          'peru', 'uruguay', 'venezuela', 'south_america_other'\n",
        "      }\n",
        "  }\n",
        "\n",
        "  for key in category_map:\n",
        "    if value in category_map[key]:\n",
        "      return key\n",
        "\n",
        "  return None\n",
        "\n",
        "# Creamos la columna de geo_category, para categorizar las geografias\n",
        "df_unpivoted['geo_category'] = df_unpivoted['geo_name'].map(add_category)\n"
      ],
      "metadata": {
        "id": "aviRIQ228rOm"
      },
      "execution_count": null,
      "outputs": []
    },
    {
      "cell_type": "markdown",
      "source": [
        "Con esta columna, ya podemos empezar a contestar las preguntas restantes, comencemos con \n",
        "* ¿De que país se originan más inmigrantes latinos, por estado y en total?"
      ],
      "metadata": {
        "id": "Qn9wVepqCB3v"
      }
    },
    {
      "cell_type": "code",
      "source": [
        "#### ¿De que país se originan más inmigrantes latinos, por estado y en total? ####\n",
        "\n",
        "# Filtramos para ver solamente inmigrantes de PAISES latinoamericanos\n",
        "df_filter = (df_unpivoted['year'] == '2020') & (df_unpivoted['geo_category'] == 'country')\n",
        "latin_countries = df_unpivoted.copy().loc[df_filter, ['state', 'geo_name', 'population']]\n",
        "\n",
        "# Total de inmigrantes latinos por país (todo Estados Unidos)\n",
        "top_countries = latin_countries.groupby('geo_name').sum().sort_values(by='population', ascending = False).head(5)\n",
        "print(\"----Países desde donde se originan más inmigrantes----\")\n",
        "display(top_countries)   # El país del que se originan más inmigrantes es México, seguido de El Salvador y Cuba\n",
        "\n",
        "# Total de inmigrantes latinos por país (por estado)\n",
        "top_ids = latin_countries.groupby(['state'])['population'].idxmax()\n",
        "top_countries_states = latin_countries.loc[top_ids]\n",
        "print(\"\\n\\n----País desde donde se originan más inmigrantes, para cada estado----\")\n",
        "display(top_countries_states)   # El país del que se originan más inmigrantes según el estado\n"
      ],
      "metadata": {
        "id": "E4Af42aVR0Cc"
      },
      "execution_count": null,
      "outputs": []
    },
    {
      "cell_type": "markdown",
      "source": [
        "El país desde donde se originan más inmigrantes es México, seguido de El Salvador, Cuba, República Dominicana, y Guatemala\n",
        "\n",
        "Para la información por estado, los países de origen son variados, pero predominan los mencionados anteriormente.\n"
      ],
      "metadata": {
        "id": "movJelp3Lh31"
      }
    },
    {
      "cell_type": "markdown",
      "source": [
        "* ¿Cuál ha sido el crecimiento de inmigrantes latinos en Estados Unidos en 2020?"
      ],
      "metadata": {
        "id": "mdq5acBeIkD5"
      }
    },
    {
      "cell_type": "code",
      "source": [
        "#### ¿Cuál ha sido el crecimiento de inmigrantes latinos? ####\n",
        "\n",
        "# Filtramos para ver solamente inmigrantes de latinoamerica (total de la region)\n",
        "df_filter = df_unpivoted['geo_name'] == 'latin_america'\n",
        "latin_historic = df_unpivoted.copy().loc[df_filter, ['year', 'state', 'geo_name', 'population']]\n",
        "\n",
        "# Sumamos datos de población por año\n",
        "latin_historic = latin_historic.groupby(['year', 'geo_name'], as_index=False)['population'].sum()\n",
        "\n",
        "# Tomamos los valores para cada año\n",
        "latinos_total_2019 = latin_historic.loc[latin_historic['year'] == '2019']['population'].values[0]\n",
        "latinos_total_2020 = latin_historic.loc[latin_historic['year'] == '2020']['population'].values[0]\n",
        "\n",
        "# Calculamos crecimiento\n",
        "latinos_growth = latinos_total_2020 - latinos_total_2019\n",
        "latinos_growth_percent = (latinos_growth/latinos_total_2019) # Hubo un decremento en inmigrantes latinos!\n",
        "print(f\"En 2020, los inmigrantes latinos en Estados Unidos disminuyeron en {latinos_growth:,.0f}, lo cuál representa un decremento de {latinos_growth_percent:,.2%} con respecto al año anterior.\")\n"
      ],
      "metadata": {
        "id": "gUMwtS1xImpk"
      },
      "execution_count": null,
      "outputs": []
    },
    {
      "cell_type": "markdown",
      "source": [
        "En 2020, los inmigrantes latinos en Estados Unidos disminuyeron en -188,114, lo cuál representa un decremento de -0.85% con respecto al año anterior.\n"
      ],
      "metadata": {
        "id": "gCEZSdd5V3sD"
      }
    },
    {
      "cell_type": "markdown",
      "source": [
        "* ¿Algún estado recibe inmigrantes de otra región del mundo de manera significativa (recibe más de otra region que de latinoamérica)?"
      ],
      "metadata": {
        "id": "DYDLUBpiKZgW"
      }
    },
    {
      "cell_type": "code",
      "source": [
        "#### ¿Algún estado recibe inmigrantes de otra región del mundo de manera significativa (recibe más de otra region que de latinoamérica)? ####\n",
        "\n",
        "# Filtramos para ver solamente inmigrantes de nivel regional (quitamos america ya que esa variable engloba latin_america)\n",
        "df_filter = (df_unpivoted['geo_category'].isin(['region', 'continent'])) & (df_unpivoted['year'] == '2020') & (df_unpivoted['geo_name'] != 'america')\n",
        "df_regional = df_unpivoted.copy().loc[df_filter, ['state', 'geo_category', 'geo_name', 'population']]\n",
        "\n",
        "# Sumamos datos de población por año\n",
        "df_regional = df_regional.groupby(['geo_name'], as_index=False)['population'].sum()\n",
        "df_regional.sort_values(by='population', ascending=False).head()"
      ],
      "metadata": {
        "id": "ANgD97NwKcbs"
      },
      "execution_count": null,
      "outputs": []
    },
    {
      "cell_type": "markdown",
      "source": [
        "Al revisar la población inmigrante de las otras regiones y continentes, ninguna es mayor a la latina.\n"
      ],
      "metadata": {
        "id": "HbOJhsJ5XVS_"
      }
    },
    {
      "cell_type": "markdown",
      "source": [
        "<div class=\"markdown-google-sans\">\n",
        "\n",
        "## <strong>8. Conclusión</strong>\n",
        "</div>\n",
        "\n",
        "Nuestro proyecto consistio en hacer un procesamiento de datos de población inmigrante en Estados Unidos. Utilizamos el API del Censo de este país para generar nuestro dataset. Después de un análisis exploratorio de datos, limpieza, y transformaciones, pudimos responder correctamente cada una de las preguntas planteadas al inicio del proyecto.\n",
        "\n",
        "Utilizamos métodos como filtros con `.loc`, agregaciones con `.sum()` y `.idxmax()`, `group_by`, transformaciones con `map` y `apply`, entre otros."
      ],
      "metadata": {
        "id": "XQWaP7RK5iQm"
      }
    }
  ]
}